{
  "nbformat": 4,
  "nbformat_minor": 0,
  "metadata": {
    "colab": {
      "provenance": [],
      "authorship_tag": "ABX9TyOg36noFk2pGFX1zi0AMxNv",
      "include_colab_link": true
    },
    "kernelspec": {
      "name": "python3",
      "display_name": "Python 3"
    },
    "language_info": {
      "name": "python"
    }
  },
  "cells": [
    {
      "cell_type": "markdown",
      "metadata": {
        "id": "view-in-github",
        "colab_type": "text"
      },
      "source": [
        "<a href=\"https://colab.research.google.com/github/ErikRSN/Pandas-Data-Science-Tasks/blob/master/Exercise.ipynb\" target=\"_parent\"><img src=\"https://colab.research.google.com/assets/colab-badge.svg\" alt=\"Open In Colab\"/></a>"
      ]
    },
    {
      "cell_type": "code",
      "execution_count": 36,
      "metadata": {
        "id": "QEQ1ErdY3qIF"
      },
      "outputs": [],
      "source": [
        "import pandas as pd\n",
        "import os"
      ]
    },
    {
      "cell_type": "markdown",
      "source": [
        "\n",
        "Task 1: Merging 12 month of data into single file."
      ],
      "metadata": {
        "id": "-64Ur5yb36vO"
      }
    },
    {
      "cell_type": "code",
      "source": [
        "!git clone https://github.com/ErikRSN/Pandas-Data-Science-Tasks.git"
      ],
      "metadata": {
        "colab": {
          "base_uri": "https://localhost:8080/"
        },
        "id": "jTHgCpLx6hi2",
        "outputId": "1f20ccba-db8b-4109-85e7-3ef34839225b"
      },
      "execution_count": 8,
      "outputs": [
        {
          "output_type": "stream",
          "name": "stdout",
          "text": [
            "Cloning into 'Pandas-Data-Science-Tasks'...\n",
            "remote: Enumerating objects: 41, done.\u001b[K\n",
            "remote: Counting objects: 100% (9/9), done.\u001b[K\n",
            "remote: Compressing objects: 100% (4/4), done.\u001b[K\n",
            "remote: Total 41 (delta 5), reused 5 (delta 5), pack-reused 32\u001b[K\n",
            "Receiving objects: 100% (41/41), 4.84 MiB | 19.69 MiB/s, done.\n",
            "Resolving deltas: 100% (18/18), done.\n"
          ]
        }
      ]
    },
    {
      "cell_type": "code",
      "source": [
        "# Specify working directory and output name\n",
        "\n",
        "directory_path = '/content/Pandas-Data-Science-Tasks/SalesAnalysis/Sales_Data/'\n",
        "output_file = 'combined_data.csv '"
      ],
      "metadata": {
        "id": "fiWFiEWF7I6A"
      },
      "execution_count": 45,
      "outputs": []
    },
    {
      "cell_type": "code",
      "source": [
        "#%cd '/content/Pandas-Data-Science-Tasks/SalesAnalysis/Sales_Data/'\n",
        "\n",
        "#df = pd.read_csv('/content/Pandas-Data-Science-Tasks/SalesAnalysis/Sales_Data/Sales_April_2019.csv')\n",
        "\n",
        "#create empty list to store data frame\n",
        "\n",
        "dataframes = []\n",
        "\n",
        "# interate throgu all CSV Files in the directiory\n",
        "\n",
        "\n",
        "files = [file for file in os.listdir('/content/Pandas-Data-Science-Tasks/SalesAnalysis/Sales_Data/')]\n",
        "\n",
        "for file in files:\n",
        "  print(file)\n",
        "\n",
        "\n",
        "#df = []\n",
        "\n",
        "#df.head()\n",
        "\n",
        "\n"
      ],
      "metadata": {
        "colab": {
          "base_uri": "https://localhost:8080/"
        },
        "id": "KPwwZThd4Cnw",
        "outputId": "ba710629-de0c-48c8-eca3-1c63f85cccb9"
      },
      "execution_count": 44,
      "outputs": [
        {
          "output_type": "stream",
          "name": "stdout",
          "text": [
            "Sales_April_2019.csv\n",
            "Sales_December_2019.csv\n",
            "Sales_October_2019.csv\n",
            "Sales_August_2019.csv\n",
            "Sales_November_2019.csv\n",
            "Sales_March_2019.csv\n",
            "Sales_January_2019.csv\n",
            "Sales_September_2019.csv\n",
            "Sales_May_2019.csv\n",
            "Sales_February_2019.csv\n",
            "Sales_July_2019.csv\n",
            "Sales_June_2019.csv\n"
          ]
        }
      ]
    },
    {
      "cell_type": "code",
      "source": [],
      "metadata": {
        "id": "GhFwwfsv7usy"
      },
      "execution_count": null,
      "outputs": []
    }
  ]
}